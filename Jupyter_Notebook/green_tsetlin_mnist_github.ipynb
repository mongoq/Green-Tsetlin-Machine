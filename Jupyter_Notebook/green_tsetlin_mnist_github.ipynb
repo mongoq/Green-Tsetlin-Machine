{
  "cells": [
    {
      "cell_type": "markdown",
      "metadata": {
        "id": "nouRWBqakySb"
      },
      "source": [
        "MNIST : 28*28 grayscale image multi-class classification\n",
        "=========================================================\n",
        "\n",
        "In this tutorial we show how green\\_tsetlin TM can be used to train on the **MNIST dataset**. MNIST is a benchmark by digit recognition\n",
        "that contains images of handwritten digits with a total of 70,000 images. Each image is a 28x28 pixel grayscale image with values between 0 and 255."
      ]
    },
    {
      "cell_type": "markdown",
      "source": [
        "For further documentation head over to the original source:\n",
        "\n",
        "https://github.com/ooki/green_tsetlin\n",
        "\n",
        "https://green-tsetlin.readthedocs.io/en/latest/\n",
        "\n",
        "And have a look at the definition of the MNIST dataset:\n",
        "\n",
        "https://botpenguin.com/glossary/mnist-dataset"
      ],
      "metadata": {
        "id": "diby9m2jWUqa"
      }
    },
    {
      "cell_type": "markdown",
      "source": [
        "# Training of a TM model"
      ],
      "metadata": {
        "id": "a-trHkSPbFvJ"
      }
    },
    {
      "cell_type": "markdown",
      "metadata": {
        "id": "8eiwk5hQlPrn"
      },
      "source": [
        "Get Python library.\n"
      ]
    },
    {
      "cell_type": "code",
      "execution_count": 1,
      "metadata": {
        "colab": {
          "base_uri": "https://localhost:8080/"
        },
        "id": "mhx1IR-dlNED",
        "outputId": "55999f47-13c3-4d0e-a0af-18137906f4fb"
      },
      "outputs": [
        {
          "output_type": "stream",
          "name": "stdout",
          "text": [
            "Collecting green-tsetlin\n",
            "  Downloading green_tsetlin-1.0.1.tar.gz (4.2 MB)\n",
            "\u001b[2K     \u001b[90m━━━━━━━━━━━━━━━━━━━━━━━━━━━━━━━━━━━━━━━━\u001b[0m \u001b[32m4.2/4.2 MB\u001b[0m \u001b[31m67.4 MB/s\u001b[0m eta \u001b[36m0:00:00\u001b[0m\n",
            "\u001b[?25h  Installing build dependencies ... \u001b[?25l\u001b[?25hdone\n",
            "  Getting requirements to build wheel ... \u001b[?25l\u001b[?25hdone\n",
            "  Preparing metadata (pyproject.toml) ... \u001b[?25l\u001b[?25hdone\n",
            "Requirement already satisfied: numpy>=1.24 in /usr/local/lib/python3.10/dist-packages (from green-tsetlin) (1.26.4)\n",
            "Requirement already satisfied: scipy>=1.10.1 in /usr/local/lib/python3.10/dist-packages (from green-tsetlin) (1.13.1)\n",
            "Requirement already satisfied: scikit-learn>=1.2 in /usr/local/lib/python3.10/dist-packages (from green-tsetlin) (1.5.2)\n",
            "Requirement already satisfied: tqdm>=4.65 in /usr/local/lib/python3.10/dist-packages (from green-tsetlin) (4.66.6)\n",
            "Collecting optuna (from green-tsetlin)\n",
            "  Downloading optuna-4.0.0-py3-none-any.whl.metadata (16 kB)\n",
            "Requirement already satisfied: joblib>=1.2.0 in /usr/local/lib/python3.10/dist-packages (from scikit-learn>=1.2->green-tsetlin) (1.4.2)\n",
            "Requirement already satisfied: threadpoolctl>=3.1.0 in /usr/local/lib/python3.10/dist-packages (from scikit-learn>=1.2->green-tsetlin) (3.5.0)\n",
            "Collecting alembic>=1.5.0 (from optuna->green-tsetlin)\n",
            "  Downloading alembic-1.13.3-py3-none-any.whl.metadata (7.4 kB)\n",
            "Collecting colorlog (from optuna->green-tsetlin)\n",
            "  Downloading colorlog-6.9.0-py3-none-any.whl.metadata (10 kB)\n",
            "Requirement already satisfied: packaging>=20.0 in /usr/local/lib/python3.10/dist-packages (from optuna->green-tsetlin) (24.1)\n",
            "Requirement already satisfied: sqlalchemy>=1.3.0 in /usr/local/lib/python3.10/dist-packages (from optuna->green-tsetlin) (2.0.36)\n",
            "Requirement already satisfied: PyYAML in /usr/local/lib/python3.10/dist-packages (from optuna->green-tsetlin) (6.0.2)\n",
            "Collecting Mako (from alembic>=1.5.0->optuna->green-tsetlin)\n",
            "  Downloading Mako-1.3.6-py3-none-any.whl.metadata (2.9 kB)\n",
            "Requirement already satisfied: typing-extensions>=4 in /usr/local/lib/python3.10/dist-packages (from alembic>=1.5.0->optuna->green-tsetlin) (4.12.2)\n",
            "Requirement already satisfied: greenlet!=0.4.17 in /usr/local/lib/python3.10/dist-packages (from sqlalchemy>=1.3.0->optuna->green-tsetlin) (3.1.1)\n",
            "Requirement already satisfied: MarkupSafe>=0.9.2 in /usr/local/lib/python3.10/dist-packages (from Mako->alembic>=1.5.0->optuna->green-tsetlin) (3.0.2)\n",
            "Downloading optuna-4.0.0-py3-none-any.whl (362 kB)\n",
            "\u001b[2K   \u001b[90m━━━━━━━━━━━━━━━━━━━━━━━━━━━━━━━━━━━━━━━━\u001b[0m \u001b[32m362.8/362.8 kB\u001b[0m \u001b[31m25.1 MB/s\u001b[0m eta \u001b[36m0:00:00\u001b[0m\n",
            "\u001b[?25hDownloading alembic-1.13.3-py3-none-any.whl (233 kB)\n",
            "\u001b[2K   \u001b[90m━━━━━━━━━━━━━━━━━━━━━━━━━━━━━━━━━━━━━━━━\u001b[0m \u001b[32m233.2/233.2 kB\u001b[0m \u001b[31m22.2 MB/s\u001b[0m eta \u001b[36m0:00:00\u001b[0m\n",
            "\u001b[?25hDownloading colorlog-6.9.0-py3-none-any.whl (11 kB)\n",
            "Downloading Mako-1.3.6-py3-none-any.whl (78 kB)\n",
            "\u001b[2K   \u001b[90m━━━━━━━━━━━━━━━━━━━━━━━━━━━━━━━━━━━━━━━━\u001b[0m \u001b[32m78.6/78.6 kB\u001b[0m \u001b[31m7.9 MB/s\u001b[0m eta \u001b[36m0:00:00\u001b[0m\n",
            "\u001b[?25hBuilding wheels for collected packages: green-tsetlin\n",
            "  Building wheel for green-tsetlin (pyproject.toml) ... \u001b[?25l\u001b[?25hdone\n",
            "  Created wheel for green-tsetlin: filename=green_tsetlin-1.0.1-cp310-cp310-linux_x86_64.whl size=335821 sha256=9786f37a1c5a04ad1928435c8032c30f31eea21ecd953b8815870b8e74653a72\n",
            "  Stored in directory: /root/.cache/pip/wheels/a3/06/35/483d0fc2f3d1b3c3b03af07cdc3bdab227d305d85ffd916f0a\n",
            "Successfully built green-tsetlin\n",
            "Installing collected packages: Mako, colorlog, alembic, optuna, green-tsetlin\n",
            "Successfully installed Mako-1.3.6 alembic-1.13.3 colorlog-6.9.0 green-tsetlin-1.0.1 optuna-4.0.0\n"
          ]
        }
      ],
      "source": [
        "!pip install green-tsetlin"
      ]
    },
    {
      "cell_type": "markdown",
      "source": [
        "Get MNIST dataset and split training and test sets (80% / 20%)."
      ],
      "metadata": {
        "id": "EE3d6fWUXBOC"
      }
    },
    {
      "cell_type": "code",
      "execution_count": 2,
      "metadata": {
        "id": "JNAoKVjdkySe"
      },
      "outputs": [],
      "source": [
        "from sklearn.datasets import fetch_openml\n",
        "from sklearn.model_selection import train_test_split as split\n",
        "import numpy as np\n",
        "\n",
        "X, y = fetch_openml(\"mnist_784\", version=1, return_X_y=True, as_frame=False)\n",
        "\n",
        "X_train, X_test, y_train, y_test = split(X, y, test_size=0.2, random_state=42, shuffle=True)"
      ]
    },
    {
      "cell_type": "markdown",
      "source": [
        "Restrict the training and test datasets to the first 10,000 and 1,000 samples respectively."
      ],
      "metadata": {
        "id": "37g1A3AlXdnB"
      }
    },
    {
      "cell_type": "code",
      "execution_count": 4,
      "metadata": {
        "id": "S0x7Z9drkySh"
      },
      "outputs": [],
      "source": [
        "# THIS ACCELERATES TRAINING BUT REDUCES INFERENCE ACCURACY\n",
        "# DO NOT USE THIS!\n",
        "\n",
        "X_train = X_train[:10000]\n",
        "y_train = y_train[:10000]\n",
        "X_test = X_test[:1000]\n",
        "y_test = y_test[:1000]"
      ]
    },
    {
      "cell_type": "markdown",
      "source": [
        "Convert arrays into binary format based on a threshold of 75"
      ],
      "metadata": {
        "id": "mVrFITgGZEoS"
      }
    },
    {
      "cell_type": "code",
      "execution_count": 3,
      "metadata": {
        "id": "eJJNaHv4kySi"
      },
      "outputs": [],
      "source": [
        "X_train = np.where(X_train > 75, 1, 0)\n",
        "X_train = X_train.astype(np.uint8)\n",
        "\n",
        "X_test = np.where(X_test > 75, 1, 0)\n",
        "X_test = X_test.astype(np.uint8)\n",
        "\n",
        "y_train = y_train.astype(np.uint32)\n",
        "y_test = y_test.astype(np.uint32)"
      ]
    },
    {
      "cell_type": "markdown",
      "metadata": {
        "id": "XNu1gPSmkySj"
      },
      "source": [
        "We can run a hyperparameter search. But we don't have to (!)."
      ]
    },
    {
      "cell_type": "code",
      "execution_count": null,
      "metadata": {
        "colab": {
          "base_uri": "https://localhost:8080/"
        },
        "id": "VeY5Wr34kySj",
        "outputId": "c2df3063-6152-48f4-a0fb-73a40d62c5b1"
      },
      "outputs": [
        {
          "output_type": "stream",
          "name": "stderr",
          "text": [
            "[I 2024-10-25 13:14:21,803] A new study created in memory with name: MNIST hpsearch\n",
            "Processing trial 9 of 10, best score: [0.9825422804146209]: 100%|██████████| 10/10 [49:32<00:00, 297.26s/it]\n"
          ]
        }
      ],
      "source": [
        "# NOT REQUIRED FOR TYPICAL TRAINING!\n",
        "from green_tsetlin.hpsearch import HyperparameterSearch\n",
        "\n",
        "\n",
        "hpsearch = HyperparameterSearch(s_space=(3.0, 40.0),\n",
        "                                clause_space=(1000, 8000),\n",
        "                                threshold_space=(1000, 8000),\n",
        "                                max_epoch_per_trial=20,\n",
        "                                literal_budget=(5, 10),\n",
        "                                k_folds=3,\n",
        "                                n_jobs=4,\n",
        "                                seed=42,\n",
        "                                minimize_literal_budget=False)\n",
        "\n",
        "hpsearch.set_train_data(X_train, y_train)\n",
        "hpsearch.set_eval_data(X_test, y_test)\n",
        "\n",
        "hpsearch.optimize(n_trials=10, study_name=\"MNIST hpsearch\", show_progress_bar=True, storage=None)"
      ]
    },
    {
      "cell_type": "markdown",
      "source": [
        "**TODO: How to output best parameters?!**"
      ],
      "metadata": {
        "id": "lplbnhR2avWm"
      }
    },
    {
      "cell_type": "markdown",
      "metadata": {
        "id": "5ZWHLdeFkySl"
      },
      "source": [
        "### Best parameters\n",
        "\n",
        "best paramaters:  {'s': 21.627727185060525, 'n_clauses': 6154, 'threshold': 1218, 'literal_budget': 10}\n",
        "\n",
        "best score:  0.9937278429233706"
      ]
    },
    {
      "cell_type": "markdown",
      "source": [
        "Initialize a Tsetlin machine."
      ],
      "metadata": {
        "id": "8tVGXhOTZg6n"
      }
    },
    {
      "cell_type": "code",
      "execution_count": 4,
      "metadata": {
        "id": "sHgCTKvGkySm"
      },
      "outputs": [],
      "source": [
        "import green_tsetlin as gt\n",
        "\n",
        "# Number of n_clauses directly relates to size of trained model.\n",
        "\n",
        "# Original code:\n",
        "best_params = {'s': 21.627727185060525, 'n_clauses': 6154, 'threshold': 1218, 'literal_budget': 10}\n",
        "\n",
        "# Half the number of n_clauses (6154/2 -> 3077):\n",
        "#best_params = {'s': 21.627727185060525, 'n_clauses': 3077, 'threshold': 1218, 'literal_budget': 10}\n",
        "\n",
        "tm = gt.TsetlinMachine(n_literals=28*28,\n",
        "                        n_clauses=best_params['n_clauses'],\n",
        "                        s=best_params['s'],\n",
        "                        threshold=int(best_params['threshold']),\n",
        "                        n_classes=10,\n",
        "                        literal_budget=best_params['literal_budget'])"
      ]
    },
    {
      "cell_type": "markdown",
      "source": [
        "Run training."
      ],
      "metadata": {
        "id": "qRvsWu41bVc9"
      }
    },
    {
      "cell_type": "code",
      "execution_count": 5,
      "metadata": {
        "id": "b2P5itX4kySn",
        "outputId": "bdd9fa4c-62d9-4ccb-e5c9-6a786138bda8",
        "colab": {
          "base_uri": "https://localhost:8080/"
        }
      },
      "outputs": [
        {
          "output_type": "stream",
          "name": "stderr",
          "text": [
            "Processing epoch 20 of 20, train acc: 0.992, best eval score: 0.975 (epoch: 19): 100%|██████████| 20/20 [14:57<00:00, 44.89s/it]\n"
          ]
        }
      ],
      "source": [
        "# Number of k_folds relates to execution time\n",
        "\n",
        "# Half the training time:\n",
        "trainer = gt.Trainer(tm, k_folds=1, n_epochs=20, seed=42, n_jobs=7, progress_bar=True)\n",
        "\n",
        "# Original code:\n",
        "#trainer = gt.Trainer(tm, k_folds=2, n_epochs=20, seed=42, n_jobs=7, progress_bar=True)\n",
        "\n",
        "trainer.set_train_data(X_train, y_train)\n",
        "trainer.set_eval_data(X_test, y_test)\n",
        "\n",
        "res = trainer.train()"
      ]
    },
    {
      "cell_type": "markdown",
      "source": [
        "Print training results.\n",
        "\n",
        "TODO: Parameterize dict when using more than one training run (i.e. k_folds>=2)."
      ],
      "metadata": {
        "id": "M3a9hV5ZPvCl"
      }
    },
    {
      "cell_type": "code",
      "execution_count": 6,
      "metadata": {
        "id": "uSdQ2KFTkySo",
        "outputId": "5c037baf-ff40-4d77-b191-7115058a57c1",
        "colab": {
          "base_uri": "https://localhost:8080/"
        }
      },
      "outputs": [
        {
          "output_type": "stream",
          "name": "stdout",
          "text": [
            "Number of epochs: 20\n",
            "Best eval score: 0.9749285714285715\n",
            "Best eval epoch: 19\n"
          ]
        }
      ],
      "source": [
        "#res\n",
        "print(f\"Number of epochs: {res['n_epochs']}\")\n",
        "print(f\"Best eval score: {res['best_eval_score']}\")\n",
        "print(f\"Best eval epoch: {res['best_eval_epoch']}\")"
      ]
    },
    {
      "cell_type": "markdown",
      "source": [
        "**Saving and reloading the TM**"
      ],
      "metadata": {
        "id": "Hfz_WkfUjUN5"
      }
    },
    {
      "cell_type": "markdown",
      "source": [
        "Save as .npz state file (optional)"
      ],
      "metadata": {
        "id": "2zeZAJYaSFjj"
      }
    },
    {
      "cell_type": "code",
      "source": [
        "tm.save_state(\"tsetlin_state.npz\")"
      ],
      "metadata": {
        "id": "d9glSUENcQ5E"
      },
      "execution_count": 7,
      "outputs": []
    },
    {
      "cell_type": "markdown",
      "source": [
        "Download .npz state file (optional)"
      ],
      "metadata": {
        "id": "9bJxoYCPDc7t"
      }
    },
    {
      "cell_type": "code",
      "source": [
        "from google.colab import files\n",
        "files.download('tsetlin_state.npz')"
      ],
      "metadata": {
        "colab": {
          "base_uri": "https://localhost:8080/",
          "height": 17
        },
        "id": "YNYJpNbHDoWM",
        "outputId": "325f3fe6-d135-4eed-e92e-d0867c20c9dd"
      },
      "execution_count": 9,
      "outputs": [
        {
          "output_type": "display_data",
          "data": {
            "text/plain": [
              "<IPython.core.display.Javascript object>"
            ],
            "application/javascript": [
              "\n",
              "    async function download(id, filename, size) {\n",
              "      if (!google.colab.kernel.accessAllowed) {\n",
              "        return;\n",
              "      }\n",
              "      const div = document.createElement('div');\n",
              "      const label = document.createElement('label');\n",
              "      label.textContent = `Downloading \"${filename}\": `;\n",
              "      div.appendChild(label);\n",
              "      const progress = document.createElement('progress');\n",
              "      progress.max = size;\n",
              "      div.appendChild(progress);\n",
              "      document.body.appendChild(div);\n",
              "\n",
              "      const buffers = [];\n",
              "      let downloaded = 0;\n",
              "\n",
              "      const channel = await google.colab.kernel.comms.open(id);\n",
              "      // Send a message to notify the kernel that we're ready.\n",
              "      channel.send({})\n",
              "\n",
              "      for await (const message of channel.messages) {\n",
              "        // Send a message to notify the kernel that we're ready.\n",
              "        channel.send({})\n",
              "        if (message.buffers) {\n",
              "          for (const buffer of message.buffers) {\n",
              "            buffers.push(buffer);\n",
              "            downloaded += buffer.byteLength;\n",
              "            progress.value = downloaded;\n",
              "          }\n",
              "        }\n",
              "      }\n",
              "      const blob = new Blob(buffers, {type: 'application/binary'});\n",
              "      const a = document.createElement('a');\n",
              "      a.href = window.URL.createObjectURL(blob);\n",
              "      a.download = filename;\n",
              "      div.appendChild(a);\n",
              "      a.click();\n",
              "      div.remove();\n",
              "    }\n",
              "  "
            ]
          },
          "metadata": {}
        },
        {
          "output_type": "display_data",
          "data": {
            "text/plain": [
              "<IPython.core.display.Javascript object>"
            ],
            "application/javascript": [
              "download(\"download_e7787d02-a7af-4ad2-be44-88a82327c210\", \"tsetlin_state.npz\", 9773042)"
            ]
          },
          "metadata": {}
        }
      ]
    },
    {
      "cell_type": "markdown",
      "source": [
        "Upload .npz state file (optional) - please select the file called 'tsetlin_state.npz'."
      ],
      "metadata": {
        "id": "7tyQu0NdERjL"
      }
    },
    {
      "cell_type": "code",
      "source": [
        "from google.colab import files\n",
        "uploaded = files.upload()\n",
        "for filename in uploaded.keys():\n",
        "    print(f'Uploaded file: {filename}')"
      ],
      "metadata": {
        "id": "Awnp1DJbEUVm"
      },
      "execution_count": null,
      "outputs": []
    },
    {
      "cell_type": "markdown",
      "source": [
        "Reload state from .npz file (optional)"
      ],
      "metadata": {
        "id": "LognuLt6SLw8"
      }
    },
    {
      "cell_type": "code",
      "source": [
        "tm.load_state(\"tsetlin_state.npz\")"
      ],
      "metadata": {
        "id": "bklQK9_CSWAa"
      },
      "execution_count": 8,
      "outputs": []
    },
    {
      "cell_type": "markdown",
      "source": [
        "**Export trained model as trained_votes.h file**"
      ],
      "metadata": {
        "id": "BGH3b3DWUFnm"
      }
    },
    {
      "cell_type": "markdown",
      "source": [
        "Copy trained_votes.h (see below) to the local directory where you cloned this project from GitHub.\n",
        "\n",
        "Run 'make predict' after creating a pixel_data.h with the pixel_painter.py script.\n",
        "\n",
        "Check pixel_data.h \"with your own eyes\" by opening it with your favourite editor."
      ],
      "metadata": {
        "id": "L8bdu7xvjoXj"
      }
    },
    {
      "cell_type": "markdown",
      "source": [
        "Export as trained_votes.h\n",
        "\n",
        "According to: https://green-tsetlin.readthedocs.io/en/latest/userguide.html"
      ],
      "metadata": {
        "id": "qTCkxiERaXCf"
      }
    },
    {
      "cell_type": "code",
      "source": [
        "predictor = tm.get_predictor(explanation=\"literals\", exclude_negative_clauses=False)\n",
        "predictor.export_as_program(\"trained_votes.h\")"
      ],
      "metadata": {
        "id": "x3K-ldjhYfH8"
      },
      "execution_count": 10,
      "outputs": []
    },
    {
      "cell_type": "markdown",
      "source": [
        "Display file size of trained_clauses.h"
      ],
      "metadata": {
        "id": "l8qWHLi3cdcW"
      }
    },
    {
      "cell_type": "code",
      "source": [
        "import os\n",
        "print(f\"\\'trained_clauses.h\\' - file size: {os.path.getsize('trained_votes.h') / 1024:.2f} KB\")"
      ],
      "metadata": {
        "colab": {
          "base_uri": "https://localhost:8080/"
        },
        "id": "GEWXlEwjchWH",
        "outputId": "5bf422ba-86b0-46ab-b3fc-c9329489e1ca"
      },
      "execution_count": 13,
      "outputs": [
        {
          "output_type": "stream",
          "name": "stdout",
          "text": [
            "'trained_clauses.h' - file size: 1429.46 KB\n"
          ]
        }
      ]
    },
    {
      "cell_type": "markdown",
      "source": [
        "Download trained_votes.h"
      ],
      "metadata": {
        "id": "TfB7hr8QRvqN"
      }
    },
    {
      "cell_type": "code",
      "source": [
        "from google.colab import files\n",
        "files.download('trained_votes.h')"
      ],
      "metadata": {
        "colab": {
          "base_uri": "https://localhost:8080/",
          "height": 17
        },
        "outputId": "1b4de249-03aa-46b8-d3e1-53dcaf32841c",
        "id": "XNXQ5AVQRi7c"
      },
      "execution_count": 14,
      "outputs": [
        {
          "output_type": "display_data",
          "data": {
            "text/plain": [
              "<IPython.core.display.Javascript object>"
            ],
            "application/javascript": [
              "\n",
              "    async function download(id, filename, size) {\n",
              "      if (!google.colab.kernel.accessAllowed) {\n",
              "        return;\n",
              "      }\n",
              "      const div = document.createElement('div');\n",
              "      const label = document.createElement('label');\n",
              "      label.textContent = `Downloading \"${filename}\": `;\n",
              "      div.appendChild(label);\n",
              "      const progress = document.createElement('progress');\n",
              "      progress.max = size;\n",
              "      div.appendChild(progress);\n",
              "      document.body.appendChild(div);\n",
              "\n",
              "      const buffers = [];\n",
              "      let downloaded = 0;\n",
              "\n",
              "      const channel = await google.colab.kernel.comms.open(id);\n",
              "      // Send a message to notify the kernel that we're ready.\n",
              "      channel.send({})\n",
              "\n",
              "      for await (const message of channel.messages) {\n",
              "        // Send a message to notify the kernel that we're ready.\n",
              "        channel.send({})\n",
              "        if (message.buffers) {\n",
              "          for (const buffer of message.buffers) {\n",
              "            buffers.push(buffer);\n",
              "            downloaded += buffer.byteLength;\n",
              "            progress.value = downloaded;\n",
              "          }\n",
              "        }\n",
              "      }\n",
              "      const blob = new Blob(buffers, {type: 'application/binary'});\n",
              "      const a = document.createElement('a');\n",
              "      a.href = window.URL.createObjectURL(blob);\n",
              "      a.download = filename;\n",
              "      div.appendChild(a);\n",
              "      a.click();\n",
              "      div.remove();\n",
              "    }\n",
              "  "
            ]
          },
          "metadata": {}
        },
        {
          "output_type": "display_data",
          "data": {
            "text/plain": [
              "<IPython.core.display.Javascript object>"
            ],
            "application/javascript": [
              "download(\"download_3de1a509-8e29-44db-b364-a9f8780d2b9f\", \"trained_votes.h\", 1463771)"
            ]
          },
          "metadata": {}
        }
      ]
    },
    {
      "cell_type": "markdown",
      "source": [
        "# Classifying .pkl (Pickle) images with Colab"
      ],
      "metadata": {
        "id": "DqOURw7OVTCx"
      }
    },
    {
      "cell_type": "markdown",
      "source": [
        "**Either** - Use a demo image from GitHub - pixel_data.pkl"
      ],
      "metadata": {
        "id": "CM2KeqIJXfV_"
      }
    },
    {
      "cell_type": "code",
      "source": [
        "# TODO\n",
        "!git clone https://github.com/mongoq/Green-Tsetlin-Machine\n",
        "#!cp file to /content/ **TODO**\n",
        "#!file test.pkl"
      ],
      "metadata": {
        "id": "bKJkRvTlXnHv"
      },
      "execution_count": null,
      "outputs": []
    },
    {
      "cell_type": "markdown",
      "source": [
        "**Or**  - Upload pixel_data.pkl created with pixel_painter.py script."
      ],
      "metadata": {
        "id": "bo0eYats3DAs"
      }
    },
    {
      "cell_type": "code",
      "source": [
        "from google.colab import files\n",
        "uploaded = files.upload()\n",
        "for filename in uploaded.keys():\n",
        "    print(f'Uploaded file: {filename}')"
      ],
      "metadata": {
        "colab": {
          "base_uri": "https://localhost:8080/",
          "height": 91
        },
        "id": "WGuJIq8q2bN6",
        "outputId": "380d1ae6-3dfb-4b5e-cf7c-4aca968e88be"
      },
      "execution_count": 15,
      "outputs": [
        {
          "output_type": "display_data",
          "data": {
            "text/plain": [
              "<IPython.core.display.HTML object>"
            ],
            "text/html": [
              "\n",
              "     <input type=\"file\" id=\"files-502b7826-1403-412e-bb4a-d81667434e60\" name=\"files[]\" multiple disabled\n",
              "        style=\"border:none\" />\n",
              "     <output id=\"result-502b7826-1403-412e-bb4a-d81667434e60\">\n",
              "      Upload widget is only available when the cell has been executed in the\n",
              "      current browser session. Please rerun this cell to enable.\n",
              "      </output>\n",
              "      <script>// Copyright 2017 Google LLC\n",
              "//\n",
              "// Licensed under the Apache License, Version 2.0 (the \"License\");\n",
              "// you may not use this file except in compliance with the License.\n",
              "// You may obtain a copy of the License at\n",
              "//\n",
              "//      http://www.apache.org/licenses/LICENSE-2.0\n",
              "//\n",
              "// Unless required by applicable law or agreed to in writing, software\n",
              "// distributed under the License is distributed on an \"AS IS\" BASIS,\n",
              "// WITHOUT WARRANTIES OR CONDITIONS OF ANY KIND, either express or implied.\n",
              "// See the License for the specific language governing permissions and\n",
              "// limitations under the License.\n",
              "\n",
              "/**\n",
              " * @fileoverview Helpers for google.colab Python module.\n",
              " */\n",
              "(function(scope) {\n",
              "function span(text, styleAttributes = {}) {\n",
              "  const element = document.createElement('span');\n",
              "  element.textContent = text;\n",
              "  for (const key of Object.keys(styleAttributes)) {\n",
              "    element.style[key] = styleAttributes[key];\n",
              "  }\n",
              "  return element;\n",
              "}\n",
              "\n",
              "// Max number of bytes which will be uploaded at a time.\n",
              "const MAX_PAYLOAD_SIZE = 100 * 1024;\n",
              "\n",
              "function _uploadFiles(inputId, outputId) {\n",
              "  const steps = uploadFilesStep(inputId, outputId);\n",
              "  const outputElement = document.getElementById(outputId);\n",
              "  // Cache steps on the outputElement to make it available for the next call\n",
              "  // to uploadFilesContinue from Python.\n",
              "  outputElement.steps = steps;\n",
              "\n",
              "  return _uploadFilesContinue(outputId);\n",
              "}\n",
              "\n",
              "// This is roughly an async generator (not supported in the browser yet),\n",
              "// where there are multiple asynchronous steps and the Python side is going\n",
              "// to poll for completion of each step.\n",
              "// This uses a Promise to block the python side on completion of each step,\n",
              "// then passes the result of the previous step as the input to the next step.\n",
              "function _uploadFilesContinue(outputId) {\n",
              "  const outputElement = document.getElementById(outputId);\n",
              "  const steps = outputElement.steps;\n",
              "\n",
              "  const next = steps.next(outputElement.lastPromiseValue);\n",
              "  return Promise.resolve(next.value.promise).then((value) => {\n",
              "    // Cache the last promise value to make it available to the next\n",
              "    // step of the generator.\n",
              "    outputElement.lastPromiseValue = value;\n",
              "    return next.value.response;\n",
              "  });\n",
              "}\n",
              "\n",
              "/**\n",
              " * Generator function which is called between each async step of the upload\n",
              " * process.\n",
              " * @param {string} inputId Element ID of the input file picker element.\n",
              " * @param {string} outputId Element ID of the output display.\n",
              " * @return {!Iterable<!Object>} Iterable of next steps.\n",
              " */\n",
              "function* uploadFilesStep(inputId, outputId) {\n",
              "  const inputElement = document.getElementById(inputId);\n",
              "  inputElement.disabled = false;\n",
              "\n",
              "  const outputElement = document.getElementById(outputId);\n",
              "  outputElement.innerHTML = '';\n",
              "\n",
              "  const pickedPromise = new Promise((resolve) => {\n",
              "    inputElement.addEventListener('change', (e) => {\n",
              "      resolve(e.target.files);\n",
              "    });\n",
              "  });\n",
              "\n",
              "  const cancel = document.createElement('button');\n",
              "  inputElement.parentElement.appendChild(cancel);\n",
              "  cancel.textContent = 'Cancel upload';\n",
              "  const cancelPromise = new Promise((resolve) => {\n",
              "    cancel.onclick = () => {\n",
              "      resolve(null);\n",
              "    };\n",
              "  });\n",
              "\n",
              "  // Wait for the user to pick the files.\n",
              "  const files = yield {\n",
              "    promise: Promise.race([pickedPromise, cancelPromise]),\n",
              "    response: {\n",
              "      action: 'starting',\n",
              "    }\n",
              "  };\n",
              "\n",
              "  cancel.remove();\n",
              "\n",
              "  // Disable the input element since further picks are not allowed.\n",
              "  inputElement.disabled = true;\n",
              "\n",
              "  if (!files) {\n",
              "    return {\n",
              "      response: {\n",
              "        action: 'complete',\n",
              "      }\n",
              "    };\n",
              "  }\n",
              "\n",
              "  for (const file of files) {\n",
              "    const li = document.createElement('li');\n",
              "    li.append(span(file.name, {fontWeight: 'bold'}));\n",
              "    li.append(span(\n",
              "        `(${file.type || 'n/a'}) - ${file.size} bytes, ` +\n",
              "        `last modified: ${\n",
              "            file.lastModifiedDate ? file.lastModifiedDate.toLocaleDateString() :\n",
              "                                    'n/a'} - `));\n",
              "    const percent = span('0% done');\n",
              "    li.appendChild(percent);\n",
              "\n",
              "    outputElement.appendChild(li);\n",
              "\n",
              "    const fileDataPromise = new Promise((resolve) => {\n",
              "      const reader = new FileReader();\n",
              "      reader.onload = (e) => {\n",
              "        resolve(e.target.result);\n",
              "      };\n",
              "      reader.readAsArrayBuffer(file);\n",
              "    });\n",
              "    // Wait for the data to be ready.\n",
              "    let fileData = yield {\n",
              "      promise: fileDataPromise,\n",
              "      response: {\n",
              "        action: 'continue',\n",
              "      }\n",
              "    };\n",
              "\n",
              "    // Use a chunked sending to avoid message size limits. See b/62115660.\n",
              "    let position = 0;\n",
              "    do {\n",
              "      const length = Math.min(fileData.byteLength - position, MAX_PAYLOAD_SIZE);\n",
              "      const chunk = new Uint8Array(fileData, position, length);\n",
              "      position += length;\n",
              "\n",
              "      const base64 = btoa(String.fromCharCode.apply(null, chunk));\n",
              "      yield {\n",
              "        response: {\n",
              "          action: 'append',\n",
              "          file: file.name,\n",
              "          data: base64,\n",
              "        },\n",
              "      };\n",
              "\n",
              "      let percentDone = fileData.byteLength === 0 ?\n",
              "          100 :\n",
              "          Math.round((position / fileData.byteLength) * 100);\n",
              "      percent.textContent = `${percentDone}% done`;\n",
              "\n",
              "    } while (position < fileData.byteLength);\n",
              "  }\n",
              "\n",
              "  // All done.\n",
              "  yield {\n",
              "    response: {\n",
              "      action: 'complete',\n",
              "    }\n",
              "  };\n",
              "}\n",
              "\n",
              "scope.google = scope.google || {};\n",
              "scope.google.colab = scope.google.colab || {};\n",
              "scope.google.colab._files = {\n",
              "  _uploadFiles,\n",
              "  _uploadFilesContinue,\n",
              "};\n",
              "})(self);\n",
              "</script> "
            ]
          },
          "metadata": {}
        },
        {
          "output_type": "stream",
          "name": "stdout",
          "text": [
            "Saving pixel_data.pkl to pixel_data.pkl\n",
            "Uploaded file: pixel_data.pkl\n"
          ]
        }
      ]
    },
    {
      "cell_type": "markdown",
      "source": [
        "Display binary pixels parsed from pixel_data.pkl."
      ],
      "metadata": {
        "id": "rpfyFsTt3e1c"
      }
    },
    {
      "cell_type": "code",
      "source": [
        "import pickle\n",
        "\n",
        "try:\n",
        "    with open(\"pixel_data.pkl\", \"rb\") as pfile:\n",
        "        pixel_data = pickle.load(pfile)\n",
        "        for row in pixel_data:\n",
        "            print(\" \".join(str(value) for value in row))\n",
        "except Exception as e:\n",
        "    print(e)"
      ],
      "metadata": {
        "colab": {
          "base_uri": "https://localhost:8080/"
        },
        "id": "9g6boSs_3KIs",
        "outputId": "fd0036b6-0a57-4949-85c1-e1be278fdca0"
      },
      "execution_count": 16,
      "outputs": [
        {
          "output_type": "stream",
          "name": "stdout",
          "text": [
            "0 0 0 0 0 0 0 0 0 0 0 0 0 0 0 0 0 0 0 0 0 0 0 0 0 0 0 0\n",
            "0 0 0 0 0 0 0 0 0 0 0 0 0 0 0 0 0 0 0 0 0 0 0 0 0 0 0 0\n",
            "0 0 0 0 0 0 0 0 0 0 0 0 0 0 0 0 0 0 0 0 0 0 0 0 0 0 0 0\n",
            "0 0 0 0 0 0 0 0 0 0 0 0 0 0 0 0 0 0 0 0 0 0 0 0 0 0 0 0\n",
            "0 0 0 0 0 0 0 0 0 0 0 0 0 0 0 0 0 0 0 0 0 0 0 0 0 0 0 0\n",
            "0 0 0 0 0 0 0 1 1 1 1 1 1 1 1 1 0 0 0 0 0 0 0 0 0 0 0 0\n",
            "0 0 0 0 0 0 1 1 1 1 1 1 1 1 1 1 1 0 0 0 0 0 0 0 0 0 0 0\n",
            "0 0 0 0 0 1 1 1 1 1 1 1 1 1 1 1 1 1 0 0 0 0 0 0 0 0 0 0\n",
            "0 0 0 0 0 0 1 0 0 0 0 0 0 0 0 1 1 1 0 0 0 0 0 0 0 0 0 0\n",
            "0 0 0 0 0 0 0 0 0 0 0 0 0 0 0 1 1 1 0 0 0 0 0 0 0 0 0 0\n",
            "0 0 0 0 0 0 0 0 0 0 0 0 0 0 0 1 1 1 0 0 0 0 0 0 0 0 0 0\n",
            "0 0 0 0 0 0 0 0 0 0 0 0 0 0 0 1 1 1 0 0 0 0 0 0 0 0 0 0\n",
            "0 0 0 0 0 0 0 0 0 0 0 0 0 0 0 1 1 0 0 0 0 0 0 0 0 0 0 0\n",
            "0 0 0 0 0 0 0 0 0 0 0 0 0 1 1 1 1 0 0 0 0 0 0 0 0 0 0 0\n",
            "0 0 0 0 0 0 0 0 0 0 0 0 1 1 1 1 0 0 0 0 0 0 0 0 0 0 0 0\n",
            "0 0 0 0 0 0 0 0 0 0 0 0 1 1 1 0 0 0 0 0 0 0 0 0 0 0 0 0\n",
            "0 0 0 0 0 0 0 0 0 1 1 0 0 1 0 0 0 0 0 0 0 0 0 0 0 0 0 0\n",
            "0 0 0 0 0 0 0 0 1 1 1 1 0 0 0 0 0 0 0 0 0 0 0 0 0 0 0 0\n",
            "0 0 0 0 0 0 0 1 1 1 1 0 0 0 0 0 0 1 1 1 1 0 0 0 0 0 0 0\n",
            "0 0 0 0 0 0 1 1 1 1 1 0 1 1 0 1 1 1 1 1 1 1 0 0 0 0 0 0\n",
            "0 0 0 0 0 0 0 1 1 1 1 1 1 1 1 1 1 1 1 1 1 0 0 0 0 0 0 0\n",
            "0 0 0 0 0 0 0 0 0 0 1 0 1 1 0 1 1 1 0 0 0 0 0 0 0 0 0 0\n",
            "0 0 0 0 0 0 0 0 0 0 0 0 0 0 0 0 0 0 0 0 0 0 0 0 0 0 0 0\n",
            "0 0 0 0 0 0 0 0 0 0 0 0 0 0 0 0 0 0 0 0 0 0 0 0 0 0 0 0\n",
            "0 0 0 0 0 0 0 0 0 0 0 0 0 0 0 0 0 0 0 0 0 0 0 0 0 0 0 0\n",
            "0 0 0 0 0 0 0 0 0 0 0 0 0 0 0 0 0 0 0 0 0 0 0 0 0 0 0 0\n",
            "0 0 0 0 0 0 0 0 0 0 0 0 0 0 0 0 0 0 0 0 0 0 0 0 0 0 0 0\n",
            "0 0 0 0 0 0 0 0 0 0 0 0 0 0 0 0 0 0 0 0 0 0 0 0 0 0 0 0\n"
          ]
        }
      ]
    },
    {
      "cell_type": "markdown",
      "source": [
        "Run inference (and time it!)."
      ],
      "metadata": {
        "id": "_3YbMOsx3jds"
      }
    },
    {
      "cell_type": "code",
      "source": [
        "import time\n",
        "\n",
        "start_time = time.time()\n",
        "\n",
        "predictor = tm.get_predictor()\n",
        "\n",
        "end_time = time.time()\n",
        "duration = end_time - start_time\n",
        "\n",
        "print(f\"I can see a digit: {predictor.predict(pixel_data)}\")\n",
        "print(f\"Inference took: {duration:.4f} sec.\")"
      ],
      "metadata": {
        "colab": {
          "base_uri": "https://localhost:8080/"
        },
        "id": "1qi0NopE3VYP",
        "outputId": "ed8557ed-b2a4-43f1-a198-ae166a847d8e"
      },
      "execution_count": 17,
      "outputs": [
        {
          "output_type": "stream",
          "name": "stdout",
          "text": [
            "I can see a digit: 2\n",
            "Inference took: 0.0855 sec.\n"
          ]
        }
      ]
    }
  ],
  "metadata": {
    "colab": {
      "provenance": [],
      "gpuType": "T4"
    },
    "kernelspec": {
      "display_name": "Python 3",
      "name": "python3"
    },
    "language_info": {
      "codemirror_mode": {
        "name": "ipython",
        "version": 3
      },
      "file_extension": ".py",
      "mimetype": "text/x-python",
      "name": "python",
      "nbconvert_exporter": "python",
      "pygments_lexer": "ipython3",
      "version": "3.1.-1"
    },
    "accelerator": "GPU"
  },
  "nbformat": 4,
  "nbformat_minor": 0
}